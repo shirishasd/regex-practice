{
 "cells": [
  {
   "cell_type": "code",
   "execution_count": null,
   "metadata": {
    "id": "lbrLwTw4r9jM"
   },
   "outputs": [],
   "source": []
  },
  {
   "cell_type": "markdown",
   "metadata": {
    "id": "mtZQDWxxos3J"
   },
   "source": [
    "# 30 REGULAR EXPRESSION EXERCISES!"
   ]
  },
  {
   "cell_type": "markdown",
   "metadata": {
    "id": "6jEYHJH3os3Q"
   },
   "source": [
    "Regex, you never know when they might come in handy. It's one of the \"good programmer\"'s fundamental yet a few people actually masters them.\n",
    "\n",
    "Challenge yourself in 30 exercises, just hide the solution in order not to peek ;)"
   ]
  },
  {
   "cell_type": "code",
   "execution_count": 12,
   "metadata": {
    "id": "ghj1l7sQos3R"
   },
   "outputs": [],
   "source": [
    "import re"
   ]
  },
  {
   "cell_type": "markdown",
   "metadata": {
    "id": "_tO-OHUBos3T"
   },
   "source": [
    "1) Write a Python program to check that a string contains only a certain set of characters (in this case a-z, A-Z and 0-9)."
   ]
  },
  {
   "cell_type": "code",
   "execution_count": 16,
   "metadata": {
    "colab": {
     "base_uri": "https://localhost:8080/"
    },
    "id": "cXaMTykzos3V",
    "outputId": "a73c9558-3ac4-44e9-ad0f-685a8f627983"
   },
   "outputs": [
    {
     "name": "stdout",
     "output_type": "stream",
     "text": [
      "True\n",
      "False\n"
     ]
    }
   ],
   "source": [
    "# Solution\n",
    "def is_allowed_specific_char(string):\n",
    "  # Definite a regex pattern\n",
    "    pattern = r'[a-zA-Z0-9]'\n",
    "    text=string\n",
    "  # Use the pattern to search for ....\n",
    "    if re.search(pattern, text) == None :\n",
    "        return('False')\n",
    "    else:\n",
    "       return('True')\n",
    "    \n",
    "    \n",
    "print(is_allowed_specific_char(\"ABCDEFabcdef123450\")) # True\n",
    "print(is_allowed_specific_char(\"*&%@#!}{\")) # False"
   ]
  },
  {
   "cell_type": "markdown",
   "metadata": {
    "id": "2oae-B8tos3W"
   },
   "source": [
    "2) Write a Python program that matches a string that has an a followed by zero or more b's"
   ]
  },
  {
   "cell_type": "code",
   "execution_count": 52,
   "metadata": {
    "id": "1LHEOOMkos3X"
   },
   "outputs": [
    {
     "name": "stdout",
     "output_type": "stream",
     "text": [
      "Found a match!\n",
      "Found a match!\n",
      "Found a match!\n",
      "Not matched!\n",
      "Not matched!\n"
     ]
    }
   ],
   "source": [
    "# Solution\n",
    "def text_match(text):\n",
    "    # Definite a regex pattern\n",
    "    patterns = r'ab*'\n",
    "    if re.search(patterns,  text) == None:\n",
    "        return  'Not matched!'\n",
    "    else:\n",
    "        return('Found a match!')\n",
    "\n",
    "    \n",
    "print(text_match(\"ac\"))   # Found a match!\n",
    "print(text_match(\"abc\"))  # Found a match!\n",
    "print(text_match(\"abbc\"))   # Found a match!\n",
    "print(text_match(\"bbc\"))  # Not matched\n",
    "print(text_match(\"b0c\"))  # Not matched\n"
   ]
  },
  {
   "cell_type": "markdown",
   "metadata": {
    "id": "AQRTCmJZos3Z"
   },
   "source": [
    "3) Write a Python program that matches a string that has an a followed by one or more b's"
   ]
  },
  {
   "cell_type": "code",
   "execution_count": 53,
   "metadata": {
    "id": "H1X2NPQYos3a"
   },
   "outputs": [
    {
     "name": "stdout",
     "output_type": "stream",
     "text": [
      "Found a match!\n",
      "Found a match!\n",
      "Not matched!\n",
      "Not matched!\n"
     ]
    }
   ],
   "source": [
    "# Solution\n",
    "def text_match(text):\n",
    "   # Definite a regex pattern\n",
    "    patterns = r'ab+'\n",
    "    if re.search(patterns,  text) == None:\n",
    "        return  'Not matched!'\n",
    "    else:\n",
    "        return('Found a match!')\n",
    "\n",
    "print(text_match(\"ab\"))   # Found a match!\n",
    "print(text_match(\"abc\"))   # Found a match!\n",
    "print(text_match(\"ac\"))  # Not matched\n",
    "print(text_match(\"bbc\"))  # Not matched"
   ]
  },
  {
   "cell_type": "markdown",
   "metadata": {
    "id": "E902uTcRos3a"
   },
   "source": [
    "4) Write a Python program that matches a string that has an a followed by zero or one 'b'"
   ]
  },
  {
   "cell_type": "code",
   "execution_count": 56,
   "metadata": {
    "id": "xeva0fRNos3b"
   },
   "outputs": [
    {
     "name": "stdout",
     "output_type": "stream",
     "text": [
      "Found a match!\n",
      "Found a match!\n",
      "Found a match!\n",
      "Found a match!\n",
      "Found a match!\n",
      "Not matched!\n"
     ]
    }
   ],
   "source": [
    "# Solution\n",
    "def text_match(text):\n",
    "    patterns = r'ab{0,1}'\n",
    "    if re.search(patterns,  text) == None:\n",
    "        return  'Not matched!'\n",
    "    else:\n",
    "        return('Found a match!')\n",
    "  \n",
    "print(text_match(\"ab\"))  # Found a match!\n",
    "print(text_match(\"abc\"))  # Found a match!\n",
    "print(text_match(\"abbc\"))  # Found a match!\n",
    "print(text_match(\"aabbc\"))  # Found a match!\n",
    "print(text_match(\"ac\"))  # Found a match!\n",
    "print(text_match(\"bbc\"))  # Not matched"
   ]
  },
  {
   "cell_type": "markdown",
   "metadata": {
    "id": "whnPaW2kos3c"
   },
   "source": [
    "5) Write a Python program that matches a string that has an a followed by three 'b'"
   ]
  },
  {
   "cell_type": "code",
   "execution_count": 57,
   "metadata": {
    "id": "0c_7S3h_os3d"
   },
   "outputs": [
    {
     "name": "stdout",
     "output_type": "stream",
     "text": [
      "Found a match!\n",
      "Found a match!\n",
      "Not matched!\n",
      "Not matched!\n",
      "Not matched!\n"
     ]
    }
   ],
   "source": [
    "# Solution\n",
    "def text_match(text):\n",
    "    patterns = r'ab{3}'\n",
    "    if re.search(patterns,  text) == None:\n",
    "        return  'Not matched!'\n",
    "    else:\n",
    "        return('Found a match!')\n",
    "\n",
    "print(text_match(\"abbb\"))  # Found a match!\n",
    "print(text_match(\"aabbbbbc\"))  # Found a match!\n",
    "print(text_match(\"aabbc\"))  # Not matched\n",
    "print(text_match(\"ac\"))  # Not matched\n",
    "print(text_match(\"bbc\"))  # Not matched"
   ]
  },
  {
   "cell_type": "markdown",
   "metadata": {
    "id": "V4AsjJiCos3e"
   },
   "source": [
    "6) Write a Python program that matches a string that has an a followed by two to three 'b'."
   ]
  },
  {
   "cell_type": "code",
   "execution_count": 59,
   "metadata": {
    "id": "VjA5CXi1os3e"
   },
   "outputs": [
    {
     "name": "stdout",
     "output_type": "stream",
     "text": [
      "Not matched!\n",
      "Found a match!\n",
      "Found a match!\n",
      "Not matched!\n",
      "Not matched!\n"
     ]
    }
   ],
   "source": [
    "# Solution\n",
    "def text_match(text):\n",
    "    patterns = r'ab{2,3}'\n",
    "    if re.search(patterns,  text) == None:\n",
    "        return  'Not matched!'\n",
    "    else:\n",
    "        return('Found a match!')\n",
    "print(text_match(\"ab\"))  # Not matched\n",
    "print(text_match(\"aabbbbbc\"))  # Found a match!\n",
    "print(text_match(\"aabbc\"))  # Found a match!\n",
    "print(text_match(\"ac\"))  # Not matched\n",
    "print(text_match(\"bbc\"))  # Not matched"
   ]
  },
  {
   "cell_type": "markdown",
   "metadata": {
    "id": "kX7sLRavos3f"
   },
   "source": [
    "7) Write a Python program to find sequences of lowercase letters joined with a underscore."
   ]
  },
  {
   "cell_type": "code",
   "execution_count": 73,
   "metadata": {
    "id": "rbxk35n7os3g"
   },
   "outputs": [
    {
     "name": "stdout",
     "output_type": "stream",
     "text": [
      "Found a match!\n",
      "Not matched!\n",
      "Not matched!\n",
      "Found a match!\n"
     ]
    }
   ],
   "source": [
    "# Solution\n",
    "def text_match(text):\n",
    "    patterns = r'^[a-z]+_[a-z]'\n",
    "    if re.search(patterns,  text) == None:\n",
    "        return  'Not matched!'\n",
    "    else:\n",
    "        return('Found a match!')\n",
    "\n",
    "print(text_match(\"aab_cbbbc\"))  # Found a match!\n",
    "print(text_match(\"aab_Abbbc\"))  # Not matched\n",
    "print(text_match(\"Aaab_abbbc\"))  # Not matched\n",
    "print(text_match(\"aaab_abbbc_bbBAC\"))  # Not matched"
   ]
  },
  {
   "cell_type": "markdown",
   "metadata": {
    "id": "H4sat-Rfos3g"
   },
   "source": [
    "8) Write a Python program to find the sequences of one upper case letter followed by lower case letters."
   ]
  },
  {
   "cell_type": "code",
   "execution_count": 74,
   "metadata": {
    "id": "oeUiVHGVos3h"
   },
   "outputs": [
    {
     "name": "stdout",
     "output_type": "stream",
     "text": [
      "Not matched!\n",
      "Found a match!\n",
      "Found a match!\n",
      "Not matched!\n"
     ]
    }
   ],
   "source": [
    "# Solution\n",
    "def text_match(text):\n",
    "    patterns = r'[A-Z]+[a-z]'\n",
    "    if re.search(patterns,  text) == None:\n",
    "        return  'Not matched!'\n",
    "    else:\n",
    "        return('Found a match!')\n",
    "\n",
    "print(text_match(\"aab_cbbbc\"))  # Not matched\n",
    "print(text_match(\"aab_Abbbc\"))  # Found a match!\n",
    "print(text_match(\"Aaab_abbbc\"))  # Found a match!\n",
    "print(text_match(\"aaab_abbbc_bbBAC\"))"
   ]
  },
  {
   "cell_type": "markdown",
   "metadata": {
    "id": "RgNBl7aEos3h"
   },
   "source": [
    "9) Write a Python program that matches a string that has an 'a' followed by anything, ending in 'b'."
   ]
  },
  {
   "cell_type": "code",
   "execution_count": 88,
   "metadata": {
    "id": "YbCsos7Jos3i"
   },
   "outputs": [
    {
     "name": "stdout",
     "output_type": "stream",
     "text": [
      "Not matched!\n",
      "Not matched!\n",
      "Found a match!\n",
      "Not matched!\n"
     ]
    }
   ],
   "source": [
    "# Solution\n",
    "def text_match(text):\n",
    "    patterns = r'a.*?b$'\n",
    "    if re.search(patterns,  text) == None:\n",
    "        return  'Not matched!'\n",
    "    else:\n",
    "        return('Found a match!')\n",
    "\n",
    "print(text_match(\"aabbbbd\"))  # Not matched\n",
    "print(text_match(\"aabAbbbc\"))  # Not matched\n",
    "print(text_match(\"accddbbjjjb\"))  # Found a match!\n",
    "print(text_match(\"Eccddbbjjjb\"))"
   ]
  },
  {
   "cell_type": "markdown",
   "metadata": {
    "id": "0oHZnx0Gos3i"
   },
   "source": [
    "10) Write a Python program that matches a word at the beginning of a string."
   ]
  },
  {
   "cell_type": "code",
   "execution_count": 91,
   "metadata": {
    "id": "1tlZiGMaos3j"
   },
   "outputs": [
    {
     "name": "stdout",
     "output_type": "stream",
     "text": [
      "Found a match!\n",
      "Not matched!\n",
      "Found a match!\n",
      "Not matched!\n"
     ]
    }
   ],
   "source": [
    "# Solution\n",
    "def text_match(text):\n",
    "  \n",
    "    patterns = r'^\\w+'\n",
    "    if re.search(patterns,  text) == None:\n",
    "        return  'Not matched!'\n",
    "    else:\n",
    "        return('Found a match!')\n",
    "\n",
    "print(text_match(\"The quick brown fox jumps over the lazy dog.\"))  # Found a match!\n",
    "print(text_match(\" The quick brown fox jumps over the lazy dog.\"))  # Not matched\n",
    "print(text_match(\"you r The quick brown fox jumps over the lazy dog.\"))  # Not matched\n",
    "print(text_match(\"!you r The quick brown fox jumps over the lazy dog.\"))  # Not matched\n"
   ]
  },
  {
   "cell_type": "markdown",
   "metadata": {
    "id": "mG0jspZFos3j"
   },
   "source": [
    "11) Write a Python program that matches a word at the end of string, with optional punctuation."
   ]
  },
  {
   "cell_type": "code",
   "execution_count": 96,
   "metadata": {
    "id": "cmhnhbZnos3j"
   },
   "outputs": [
    {
     "name": "stdout",
     "output_type": "stream",
     "text": [
      "Found a match!\n",
      "Not matched!\n",
      "Not matched!\n",
      "Found a match!\n",
      "Not matched!\n"
     ]
    }
   ],
   "source": [
    "# Solution\n",
    "def text_match(text):\n",
    "    patterns = r'\\w+\\S*$'\n",
    "    if re.search(patterns,  text) == None:\n",
    "        return  'Not matched!'\n",
    "    else:\n",
    "        return('Found a match!')\n",
    "\n",
    "print(text_match(\"The quick brown fox jumps over the lazy dog.\"))  # Found a match!\n",
    "print(text_match(\"The quick brown fox jumps over the lazy dog. \"))  # Not matched\n",
    "print(text_match(\"The quick brown fox jumps over the lazy dog \"))  # Not matched\n",
    "print(text_match(\"The quick brown fox jumps over the lazy dog!!\"))  # Found a match\n",
    "print(text_match(\"The quick brown fox jumps over the lazy dog!! \"))  # Not matched"
   ]
  },
  {
   "cell_type": "markdown",
   "metadata": {
    "id": "DBgbyYHXos3k"
   },
   "source": [
    "12) Write a Python program that matches a word containing 'z'"
   ]
  },
  {
   "cell_type": "code",
   "execution_count": 101,
   "metadata": {
    "id": "WxuMRyCbos3k"
   },
   "outputs": [
    {
     "name": "stdout",
     "output_type": "stream",
     "text": [
      "Found a match!\n",
      "Not matched!\n",
      "Found a match!\n"
     ]
    }
   ],
   "source": [
    "# Solution\n",
    "def text_match(text):\n",
    "    patterns = r'z'\n",
    "    if re.search(patterns,  text) == None:\n",
    "        return  'Not matched!'\n",
    "    else:\n",
    "        return('Found a match!')\n",
    "\n",
    "  \n",
    "print(text_match(\"The quick brown fox jumps over the lazy dog.\"))  # Found a match!\n",
    "print(text_match(\"Python Exercises.\"))  # Not matched\n",
    "print(text_match(\"Python Exercises. zzz\"))  # Found a match!"
   ]
  },
  {
   "cell_type": "markdown",
   "metadata": {
    "id": "V_9_nk8Kos3l"
   },
   "source": [
    "13) Write a Python program that matches a word containing 'z', not at the start or end of the word."
   ]
  },
  {
   "cell_type": "code",
   "execution_count": 112,
   "metadata": {
    "id": "VEhCCh7yos3l"
   },
   "outputs": [
    {
     "name": "stdout",
     "output_type": "stream",
     "text": [
      "Found a match!\n",
      "Not matched!\n",
      "Not matched!\n"
     ]
    }
   ],
   "source": [
    "# Solution\n",
    "def text_match(text):\n",
    "    patterns = r'.z.'\n",
    "    if re.search(patterns,  text) == None:\n",
    "        return  'Not matched!'\n",
    "    else:\n",
    "        return('Found a match!')\n",
    "\n",
    "print(text_match(\"The quick brown fox jumps over the lazy dog.\"))  # Found a match!\n",
    "print(text_match(\"Python Exercises.\"))  # Not matched\n",
    "print(text_match(\"Zoo quick brown fox jumps over the laZy dog.\"))"
   ]
  },
  {
   "cell_type": "markdown",
   "metadata": {
    "id": "L0lV07OCos3m"
   },
   "source": [
    "14) Write a Python program to match a string that contains only upper and lowercase letters, numbers, and underscores."
   ]
  },
  {
   "cell_type": "code",
   "execution_count": 120,
   "metadata": {
    "id": "E9NcoWDhos3m"
   },
   "outputs": [
    {
     "name": "stdout",
     "output_type": "stream",
     "text": [
      "Not matched!\n",
      "Found a match!\n",
      "Found a match!\n"
     ]
    }
   ],
   "source": [
    "# Solution\n",
    "def text_match(text):\n",
    "    patterns = r'^[a-zA-Z0-9_]*$'\n",
    "    \n",
    "    if re.search(patterns,  text) == None:\n",
    "        return  'Not matched!'\n",
    "    else:\n",
    "        return('Found a match!')\n",
    "\n",
    "print(text_match(\"The quick brown fox jumps over the lazy dog.\"))  # Not matched\n",
    "print(text_match(\"Python_Exercises_1\"))  # Found a match!\n",
    "print(text_match(\"itsa_test\"))  # Found a match!"
   ]
  },
  {
   "cell_type": "markdown",
   "metadata": {
    "id": "EvKJ8WOoos3n"
   },
   "source": [
    "15) Write a Python program where a string will start with a specific number. "
   ]
  },
  {
   "cell_type": "code",
   "execution_count": 130,
   "metadata": {
    "id": "nWp5QysTos3n"
   },
   "outputs": [
    {
     "name": "stdout",
     "output_type": "stream",
     "text": [
      "Found a match!\n",
      "Found a match!\n",
      "Not matched!\n"
     ]
    }
   ],
   "source": [
    "# Solution\n",
    "def match_num(string):\n",
    "    patterns = r'^[0-9]'\n",
    "    \n",
    "    if re.search(patterns,  string) == None:\n",
    "        return  'Not matched!'\n",
    "    else:\n",
    "        return('Found a match!')\n",
    "  \n",
    "print(match_num('5-2345861')) # True\n",
    "print(match_num('6-2345861')) # False\n",
    "print(match_num('A-2345861')) # False"
   ]
  },
  {
   "cell_type": "markdown",
   "metadata": {
    "id": "r_I1cbvios3t"
   },
   "source": [
    "16) Write a Python program to remove leading zeros from an IP address"
   ]
  },
  {
   "cell_type": "code",
   "execution_count": 132,
   "metadata": {
    "id": "cRLX4hc3os3u"
   },
   "outputs": [
    {
     "name": "stdout",
     "output_type": "stream",
     "text": [
      "216.8.94.196\n"
     ]
    }
   ],
   "source": [
    "# Solution\n",
    "def rewrite_ip(ip):\n",
    "    string = re.sub ('\\.[0]*', '.', ip)\n",
    "    return(string)\n",
    "  \n",
    "\n",
    "ip = \"216.08.094.196\"\n",
    "string = rewrite_ip(ip)\n",
    "print(string) # 216.8.94.196"
   ]
  },
  {
   "cell_type": "markdown",
   "metadata": {
    "id": "ZCn9r3o2os3u"
   },
   "source": [
    "17) Write a Python program to check for a number at the end of a string."
   ]
  },
  {
   "cell_type": "code",
   "execution_count": 135,
   "metadata": {
    "id": "Q5t9U6n8os3u"
   },
   "outputs": [
    {
     "name": "stdout",
     "output_type": "stream",
     "text": [
      "Not matched!\n",
      "Found a match!\n",
      "Not matched!\n"
     ]
    }
   ],
   "source": [
    "# Solution\n",
    "def end_num(string):\n",
    "    patterns = r'[0-9]$'\n",
    "    \n",
    "    if re.search(patterns,  string) == None:\n",
    "        return  'Not matched!'\n",
    "    else:\n",
    "        return('Found a match!')\n",
    "\n",
    "print(end_num('abcdef'))  # False\n",
    "print(end_num('abcdef6')) # True\n",
    "print(end_num('abcd7fh')) # False"
   ]
  },
  {
   "cell_type": "markdown",
   "metadata": {
    "id": "0tM4eW8Wos3v"
   },
   "source": [
    "18) Write a Python program to search the numbers (0-9) of length between 1 to 3 in a given string. "
   ]
  },
  {
   "cell_type": "code",
   "execution_count": 152,
   "metadata": {
    "id": "7QGwzVxDos3v"
   },
   "outputs": [
    {
     "name": "stdout",
     "output_type": "stream",
     "text": [
      "Number of length 1 to 3\n",
      "# 1\n",
      "# 12\n",
      "# 13\n",
      "# 345\n"
     ]
    },
    {
     "data": {
      "text/plain": [
       "<callable_iterator at 0x157764452b0>"
      ]
     },
     "execution_count": 152,
     "metadata": {},
     "output_type": "execute_result"
    }
   ],
   "source": [
    "# Solution\n",
    "def print_digits(string):\n",
    "    result=re.finditer(r\"([0-9]{1,3})\", string) \n",
    "    print(\"Number of length 1 to 3\") \n",
    "    for n in result: \n",
    "        print('# ' + n.group(0))\n",
    "    return(result)\n",
    "\n",
    "string = \"Exercises number 1, 12, 13, and 345 are important\"\n",
    "print_digits(string)\n",
    "\n",
    "\n",
    "# Number of length 1 to 3\n",
    "# 1\n",
    "# 12\n",
    "# 13\n",
    "# 345"
   ]
  },
  {
   "cell_type": "markdown",
   "metadata": {
    "id": "43nNb7d_os3v"
   },
   "source": [
    "19) Write a Python program to search some literals strings in a string. \n",
    "Sample text : 'The quick brown fox jumps over the lazy dog.'\n",
    "Searched words : 'fox', 'dog', 'horse'"
   ]
  },
  {
   "cell_type": "code",
   "execution_count": 156,
   "metadata": {
    "id": "KIVHxWN9os3w"
   },
   "outputs": [
    {
     "name": "stdout",
     "output_type": "stream",
     "text": [
      "Searching for \"fox\" in \"The quick brown fox jumps over the lazy dog.\" ->\n",
      "Matched!\n",
      "Searching for \"dog\" in \"The quick brown fox jumps over the lazy dog.\" ->\n",
      "Matched!\n",
      "Searching for \"horse\" in \"The quick brown fox jumps over the lazy dog.\" ->\n",
      "Not Matched!\n"
     ]
    }
   ],
   "source": [
    "# Solution\n",
    "def print_match(patterns, text):\n",
    "    for pattern in patterns: \n",
    "        print('Searching for \"%s\" in \"%s\" ->' % ( pattern, text),) \n",
    "        if re. search ( pattern, text): \n",
    "            print('Matched!') \n",
    "        else: print('Not Matched!')\n",
    "\n",
    "\n",
    "patterns = [ 'fox', 'dog', 'horse' ]\n",
    "text = 'The quick brown fox jumps over the lazy dog.'\n",
    "print_match(patterns, text)\n",
    "# Searching for \"fox\" in \"The quick brown fox jumps over the lazy dog.\" ->\n",
    "# Matched!\n",
    "# Searching for \"dog\" in \"The quick brown fox jumps over the lazy dog.\" ->\n",
    "# Matched!\n",
    "# Searching for \"horse\" in \"The quick brown fox jumps over the lazy dog.\" ->\n",
    "# Not Matched!"
   ]
  },
  {
   "cell_type": "markdown",
   "metadata": {
    "id": "XjdROmMhos3w"
   },
   "source": [
    "20) Write a Python program to search a literals string in a string and also find the location within the original string where the pattern occurs\n",
    "\n",
    "Sample text : 'The quick brown fox jumps over the lazy dog.'\n",
    "Searched words : 'fox'"
   ]
  },
  {
   "cell_type": "code",
   "execution_count": 157,
   "metadata": {
    "id": "vWViImYios3w"
   },
   "outputs": [
    {
     "name": "stdout",
     "output_type": "stream",
     "text": [
      "Found \"fox\" in \"The quick brown fox jumps over the lazy dog.\" from 16 to 19 \n"
     ]
    }
   ],
   "source": [
    "# Solution\n",
    "def print_match_location(pattern, text):\n",
    "    match = re.search(pattern, text)\n",
    "    s = match.start()a\n",
    "    e = match.end()\n",
    "    print('Found \"%s\" in \"%s\" from %d to %d ' % \\\n",
    "    (match.re.pattern, match.string, s, e))\n",
    "\n",
    "pattern = 'fox'\n",
    "text = 'The quick brown fox jumps over the lazy dog.'\n",
    "print_match_location(pattern, text)\n",
    "# Found \"fox\" in \"The quick brown fox jumps over the lazy dog.\" from 16 to 19"
   ]
  },
  {
   "cell_type": "markdown",
   "metadata": {
    "id": "lLRotk-Oos3x"
   },
   "source": [
    "21) Write a Python program to find the substrings within a string.\n",
    "\n",
    "Sample text :\n",
    "\n",
    "'Python exercises, PHP exercises, C# exercises'\n",
    "\n",
    "Pattern :\n",
    "\n",
    "'exercises'\n",
    "\n",
    "Note: There are three instances of exercises in the input string."
   ]
  },
  {
   "cell_type": "code",
   "execution_count": 162,
   "metadata": {
    "id": "XU8613rTos3x"
   },
   "outputs": [
    {
     "name": "stdout",
     "output_type": "stream",
     "text": [
      "Found \"exercises\"\n",
      "Found \"exercises\"\n",
      "Found \"exercises\"\n"
     ]
    }
   ],
   "source": [
    "# Solution\n",
    "def find_all_matches(pattern, text):\n",
    "    for match in re.findall(pattern, text):\n",
    "        print('Found \"%s\"' % match)\n",
    "\n",
    "\n",
    "text = 'Python exercises, PHP exercises, C# exercises'\n",
    "pattern = 'exercises'\n",
    "find_all_matches(pattern, text)\n",
    "\n",
    "\n",
    "# Found \"exercises\"\n",
    "# Found \"exercises\"\n",
    "# Found \"exercises\""
   ]
  },
  {
   "cell_type": "markdown",
   "metadata": {
    "id": "uvAY6v7Oos3x"
   },
   "source": [
    "22) Write a Python program to find the occurrence and position of the substrings within a string."
   ]
  },
  {
   "cell_type": "code",
   "execution_count": 173,
   "metadata": {
    "id": "UFg6rXJnos3y"
   },
   "outputs": [
    {
     "name": "stdout",
     "output_type": "stream",
     "text": [
      "Found \"exercises\" at 7:16\n",
      "Found \"exercises\" at 22:31\n",
      "Found \"exercises\" at 36:45\n"
     ]
    }
   ],
   "source": [
    "# Solution\n",
    "def find_all_matches_location(pattern, text):\n",
    "    for match in re.finditer(pattern, text):\n",
    "        s = match.start()\n",
    "        e = match.end()\n",
    "        print('Found \"%s\" at %d:%d' % (text[s:e], s, e))\n",
    "\n",
    "\n",
    "text = 'Python exercises, PHP exercises, C# exercises'\n",
    "pattern = 'exercises'\n",
    "find_all_matches_location(pattern, text)\n",
    "# Found \"exercises\" at 7:16\n",
    "# Found \"exercises\" at 22:31\n",
    "# Found \"exercises\" at 36:45"
   ]
  },
  {
   "cell_type": "markdown",
   "metadata": {
    "id": "Sb3zKxE-os3y"
   },
   "source": [
    "23) Write a Python program to replace whitespaces with an underscore and vice versa."
   ]
  },
  {
   "cell_type": "code",
   "execution_count": 201,
   "metadata": {
    "id": "nUxR5Xvjos3z"
   },
   "outputs": [
    {
     "name": "stdout",
     "output_type": "stream",
     "text": [
      "Python_Exercises\n",
      "Python Exercises\n"
     ]
    }
   ],
   "source": [
    "text = 'Python Exercises'\n",
    "\n",
    "# Your code\n",
    "def rewrite_1(text):\n",
    "    text = text.replace(\" \", \"_\")\n",
    "     #s = re.sub(r\"\\s+\", '-', s)\n",
    "    return(text)\n",
    "    \n",
    "print(rewrite_1(text)) # Python_Exercises\n",
    "\n",
    "\n",
    "text='Python_Exercises'\n",
    "\n",
    "def rewrite_2(text):\n",
    "    text = text.replace(\"_\", \" \")\n",
    "     #s = re.sub(r\"\\s+\", '-', s)\n",
    "    return(text)\n",
    "    \n",
    "print(rewrite_2(text))  \n",
    "\n",
    "      \n",
    "    #print(text) # Python Exercises\n",
    "\n"
   ]
  },
  {
   "cell_type": "markdown",
   "metadata": {
    "id": "grqoW-pgos3z"
   },
   "source": [
    "24) Write a Python program to extract year, month and date from a an url. "
   ]
  },
  {
   "cell_type": "code",
   "execution_count": 202,
   "metadata": {
    "id": "K2-pacqmos3z"
   },
   "outputs": [
    {
     "name": "stdout",
     "output_type": "stream",
     "text": [
      "[('2016', '09', '02')]\n"
     ]
    }
   ],
   "source": [
    "# Solution\n",
    "def extract_date(url):\n",
    "    return re.findall(r'/(\\d{4})/(\\d{1,2})/(\\d{1,2})/', url)\n",
    "  \n",
    "url= \"https://www.washingtonpost.com/news/football-insider/wp/2016/09/02/odell-beckhams-fame-rests-on-one-stupid-little-ball-josh-norman-tells-author/\"\n",
    "print(extract_date(url1)) # [('2016', '09', '02')]"
   ]
  },
  {
   "cell_type": "markdown",
   "metadata": {
    "id": "gyD5AZW7os3z"
   },
   "source": [
    "25) Write a Python program to convert a date of yyyy-mm-dd format to dd-mm-yyyy format."
   ]
  },
  {
   "cell_type": "code",
   "execution_count": 207,
   "metadata": {
    "id": "bo-jpYqZos30"
   },
   "outputs": [
    {
     "name": "stdout",
     "output_type": "stream",
     "text": [
      "Original date in YYY-MM-DD Format:  2026-01-02\n"
     ]
    },
    {
     "ename": "AttributeError",
     "evalue": "module 'datetime' has no attribute 'strftime'",
     "output_type": "error",
     "traceback": [
      "\u001b[1;31m---------------------------------------------------------------------------\u001b[0m",
      "\u001b[1;31mAttributeError\u001b[0m                            Traceback (most recent call last)",
      "Input \u001b[1;32mIn [207]\u001b[0m, in \u001b[0;36m<cell line: 8>\u001b[1;34m()\u001b[0m\n\u001b[0;32m      6\u001b[0m dt1 \u001b[38;5;241m=\u001b[39m \u001b[38;5;124m\"\u001b[39m\u001b[38;5;124m2026-01-02\u001b[39m\u001b[38;5;124m\"\u001b[39m\n\u001b[0;32m      7\u001b[0m \u001b[38;5;28mprint\u001b[39m(\u001b[38;5;124m\"\u001b[39m\u001b[38;5;124mOriginal date in YYY-MM-DD Format: \u001b[39m\u001b[38;5;124m\"\u001b[39m,dt1)  \u001b[38;5;66;03m# Original date in YYY-MM-DD Format:  2026-01-02\u001b[39;00m\n\u001b[1;32m----> 8\u001b[0m \u001b[38;5;28mprint\u001b[39m(\u001b[38;5;124m\"\u001b[39m\u001b[38;5;124mNew date in DD-MM-YYYY Format: \u001b[39m\u001b[38;5;124m\"\u001b[39m,\u001b[43mchange_date_format\u001b[49m\u001b[43m(\u001b[49m\u001b[43mdt1\u001b[49m\u001b[43m)\u001b[49m)\n",
      "Input \u001b[1;32mIn [207]\u001b[0m, in \u001b[0;36mchange_date_format\u001b[1;34m(dt)\u001b[0m\n\u001b[0;32m      3\u001b[0m \u001b[38;5;28;01mdef\u001b[39;00m \u001b[38;5;21mchange_date_format\u001b[39m(dt):\n\u001b[1;32m----> 4\u001b[0m     \u001b[38;5;28;01mreturn\u001b[39;00m \u001b[43mdatetime\u001b[49m\u001b[38;5;241;43m.\u001b[39;49m\u001b[43mstrftime\u001b[49m(dt, \u001b[38;5;124m\"\u001b[39m\u001b[38;5;132;01m%d\u001b[39;00m\u001b[38;5;124m/\u001b[39m\u001b[38;5;124m%\u001b[39m\u001b[38;5;124mm/\u001b[39m\u001b[38;5;124m%\u001b[39m\u001b[38;5;124my\u001b[39m\u001b[38;5;124m\"\u001b[39m)\n",
      "\u001b[1;31mAttributeError\u001b[0m: module 'datetime' has no attribute 'strftime'"
     ]
    }
   ],
   "source": [
    "# Solution\n",
    "import datetime\n",
    "def change_date_format(dt):\n",
    "    return datetime.strftime(dt, \"%d/%m/%y\")\n",
    "\n",
    "dt1 = \"2026-01-02\"\n",
    "print(\"Original date in YYY-MM-DD Format: \",dt1)  # Original date in YYY-MM-DD Format:  2026-01-02\n",
    "print(\"New date in DD-MM-YYYY Format: \",change_date_format(dt1))  # New date in DD-MM-YYYY Format:  02-01-2026"
   ]
  },
  {
   "cell_type": "markdown",
   "metadata": {
    "id": "IQ2SNL-gos30"
   },
   "source": [
    "26) Write a Python program to match if any words from a list of words starting with letter 'P'."
   ]
  },
  {
   "cell_type": "code",
   "execution_count": 216,
   "metadata": {
    "id": "2hP4Twe0os31"
   },
   "outputs": [
    {
     "name": "stdout",
     "output_type": "stream",
     "text": [
      "('Python', 'PHP')\n"
     ]
    }
   ],
   "source": [
    "# Sample strings.\n",
    "def print_words_starting_with_P(words):\n",
    "    for w in words: \n",
    "        m = re.match(\"(P\\w+)\\W(P\\w+)\", w)\n",
    "        if m: \n",
    "            print(m.groups())\n",
    "\n",
    "words = [\"Python PHP\", \"Java JavaScript\", \"c c++\"]\n",
    "print_words_starting_with_P(words)  # ('Python', 'PHP')"
   ]
  },
  {
   "cell_type": "markdown",
   "metadata": {
    "id": "MEUMKMn0os31"
   },
   "source": [
    "27) Write a Python program to separate and print the numbers of a given string."
   ]
  },
  {
   "cell_type": "code",
   "execution_count": 219,
   "metadata": {
    "id": "xG8c9PtUos32"
   },
   "outputs": [
    {
     "name": "stdout",
     "output_type": "stream",
     "text": [
      "\n",
      "10\n",
      "20\n",
      "30\n"
     ]
    }
   ],
   "source": [
    "# Solution\n",
    "def print_all_numbers(text):\n",
    "    result = re. split (\"\\D+\", text)\n",
    "    for element in result: \n",
    "        print(element)\n",
    "    \n",
    "\n",
    "# Sample string.\n",
    "text = \"Ten 10, Twenty 20, Thirty 30\"\n",
    "print_all_numbers(text)\n",
    "# 10\n",
    "# 20\n",
    "# 30"
   ]
  },
  {
   "cell_type": "markdown",
   "metadata": {
    "id": "krdKu3Mvos32"
   },
   "source": [
    "28) Write a Python program to find all words starting with 'a' or 'e' in a given string."
   ]
  },
  {
   "cell_type": "code",
   "execution_count": 223,
   "metadata": {
    "id": "3hsR5278os32"
   },
   "outputs": [
    {
     "name": "stdout",
     "output_type": "stream",
     "text": [
      "['example', 'eates', 'an', 'ayList', 'apacity', 'elements', 'elements', 'are', 'en', 'added', 'ayList', 'and', 'ayList', 'ed', 'accordingly']\n",
      "None\n"
     ]
    }
   ],
   "source": [
    "# Solution\n",
    "def get_all_words_containing_a_or_e(text):\n",
    "    list = re.findall(\"[ae]\\w+\", text)\n",
    "    print(list)\n",
    "\n",
    "\n",
    "# Input.\n",
    "text = \"The following example creates an ArrayList with a capacity of 50 elements. Four elements are then added to the ArrayList and the ArrayList is trimmed accordingly.\"\n",
    "print(get_all_words_containing_a_or_e(text))\n",
    "# ['example', 'eates', 'an', 'ayList', 'apacity', 'elements', 'elements', 'are', 'en', 'added', 'ayList', 'and', 'ayList', 'ed', 'accordingly']"
   ]
  },
  {
   "cell_type": "markdown",
   "metadata": {
    "id": "CxfIZ5o9os33"
   },
   "source": [
    "29) Write a Python program to separate and print the numbers and their position of a given string."
   ]
  },
  {
   "cell_type": "code",
   "execution_count": 225,
   "metadata": {
    "id": "XIuiRvmAos33"
   },
   "outputs": [
    {
     "name": "stdout",
     "output_type": "stream",
     "text": [
      "50\n",
      "Index position: 62\n"
     ]
    }
   ],
   "source": [
    "# Solution\n",
    "def print_all_numbers_and_their_position(text):\n",
    "    for m in re.finditer(\"\\d+\", text):\n",
    "        print(m.group(0))\n",
    "        print(\"Index position:\", m.start())\n",
    "\t\n",
    "\n",
    "# Input.\n",
    "text = \"The following example creates an ArrayList with a capacity of 50 elements. Four elements are then added to the ArrayList and the ArrayList is trimmed accordingly.\"\n",
    "print_all_numbers_and_their_position(text)\n",
    "# 50\n",
    "# Index position: 62"
   ]
  },
  {
   "cell_type": "markdown",
   "metadata": {
    "id": "JguO0fUjos34"
   },
   "source": [
    "30) Write a Python program to abbreviate 'Road' as 'Rd.' in a given string."
   ]
  },
  {
   "cell_type": "code",
   "execution_count": 227,
   "metadata": {
    "id": "VJE1Xm2Bos34"
   },
   "outputs": [
    {
     "name": "stdout",
     "output_type": "stream",
     "text": [
      "21 Ramkrishna Rd.\n"
     ]
    }
   ],
   "source": [
    "# Solution\n",
    "def abbreviate_road(street):\n",
    "    return(re.sub('Road$', 'Rd.', street))\n",
    "\n",
    "street = '21 Ramkrishna Road'\n",
    "\n",
    "print(abbreviate_road(street))  # 21 Ramkrishna Rd.\n"
   ]
  },
  {
   "cell_type": "code",
   "execution_count": null,
   "metadata": {},
   "outputs": [],
   "source": []
  }
 ],
 "metadata": {
  "colab": {
   "collapsed_sections": [],
   "name": "Copy of regex-exercises.ipynb",
   "provenance": []
  },
  "kernelspec": {
   "display_name": "Python 3 (ipykernel)",
   "language": "python",
   "name": "python3"
  },
  "language_info": {
   "codemirror_mode": {
    "name": "ipython",
    "version": 3
   },
   "file_extension": ".py",
   "mimetype": "text/x-python",
   "name": "python",
   "nbconvert_exporter": "python",
   "pygments_lexer": "ipython3",
   "version": "3.9.12"
  }
 },
 "nbformat": 4,
 "nbformat_minor": 1
}
